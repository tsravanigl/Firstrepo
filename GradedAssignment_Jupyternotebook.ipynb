{
  "metadata": {
    "language_info": {
      "name": ""
    },
    "kernelspec": {
      "name": "",
      "display_name": ""
    }
  },
  "nbformat_minor": 4,
  "nbformat": 4,
  "cells": [
    {
      "cell_type": "markdown",
      "source": "# My Jupyter Notebook on IBM Watson Studio",
      "metadata": {}
    },
    {
      "cell_type": "markdown",
      "source": "**Sravani Gowri Laxmi**\nData Integration Lead",
      "metadata": {}
    },
    {
      "cell_type": "markdown",
      "source": "I am interested in data science because *, My responsibility is interacting with people and gathering the data. Also, I would be working on bringing in value with the data I gathered to present to the leadership in identifying the appropriate/best ways of handling the current process*",
      "metadata": {}
    },
    {
      "cell_type": "markdown",
      "source": "### Multiplication",
      "metadata": {}
    },
    {
      "cell_type": "code",
      "source": "123*123",
      "metadata": {},
      "execution_count": null,
      "outputs": []
    },
    {
      "cell_type": "markdown",
      "source": "Markdown | Less | Pretty\n--- | --- | ---\n*Still* | `renders` | **nicely**\n1 | 2 | 3\n\n----\n\n<dl>\n  <dt>Definition list</dt>\n  <dd>Is something people use sometimes.</dd>\n\n  <dt>Markdown in HTML</dt>\n  <dd>Does *not* work **very** well. Use HTML <em>tags</em>.</dd>\n</dl>\n\n----\n\nInline `code` has `back-ticks around` it.\n\n----------\n\n<a href=\"https://dataplatform.cloud.ibm.com/gallery\">IBM Cloud Gallery</a>",
      "metadata": {}
    },
    {
      "cell_type": "code",
      "source": "",
      "metadata": {},
      "execution_count": null,
      "outputs": []
    }
  ]
}